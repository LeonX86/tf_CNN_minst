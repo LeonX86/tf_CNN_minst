{
 "cells": [
  {
   "cell_type": "markdown",
   "metadata": {},
   "source": [
    "# 识别自己的手写数字（图像预测）"
   ]
  },
  {
   "cell_type": "code",
   "execution_count": 3,
   "metadata": {},
   "outputs": [],
   "source": [
    "import os\n",
    "os.environ['TF_CPP_MIN_LOG_LEVEL']='2'\n",
    "\n",
    "import tensorflow as tf\n",
    "from tensorflow.keras.models import load_model\n",
    "import matplotlib.pyplot as plt\n",
    "from PIL import Image\n",
    "import numpy as np"
   ]
  },
  {
   "cell_type": "markdown",
   "metadata": {},
   "source": [
    "### 1、载入数据"
   ]
  },
  {
   "cell_type": "code",
   "execution_count": 4,
   "metadata": {},
   "outputs": [],
   "source": [
    "# 1、载入数据\n",
    "mnist = tf.keras.datasets.mnist\n",
    "(x_train, y_train), (x_test, y_test) = mnist.load_data()"
   ]
  },
  {
   "cell_type": "markdown",
   "metadata": {},
   "source": [
    "### 2、载入训练好的模型"
   ]
  },
  {
   "cell_type": "code",
   "execution_count": 5,
   "metadata": {},
   "outputs": [],
   "source": [
    "# 2、载入训练好的模型\n",
    "model = load_model('mnist.h5')"
   ]
  },
  {
   "cell_type": "markdown",
   "metadata": {},
   "source": [
    "### 3、载入自己写的数字图片并设置大小"
   ]
  },
  {
   "cell_type": "code",
   "execution_count": 8,
   "metadata": {},
   "outputs": [],
   "source": [
    "# 3、载入自己写的数字图片并设置大小\n",
    "img = Image.open('9.png')\n",
    "# 设置大小（和数据集的图片一致）\n",
    "img = img.resize((28, 28))"
   ]
  },
  {
   "cell_type": "markdown",
   "metadata": {},
   "source": [
    "### 4、转灰度图"
   ]
  },
  {
   "cell_type": "code",
   "execution_count": 9,
   "metadata": {},
   "outputs": [],
   "source": [
    "# 4、转灰度图\n",
    "gray = np.array(img.convert('L'))#.convert('L')：转灰度图"
   ]
  },
  {
   "cell_type": "markdown",
   "metadata": {},
   "source": [
    "### 5、转黑底白字、数据归一化"
   ]
  },
  {
   "cell_type": "code",
   "execution_count": 10,
   "metadata": {},
   "outputs": [],
   "source": [
    "# 5、转黑底白字、数据归一化\n",
    "gray_inv = (255-gray)/255.0"
   ]
  },
  {
   "cell_type": "markdown",
   "metadata": {},
   "source": [
    "### 6、转四维数据"
   ]
  },
  {
   "cell_type": "code",
   "execution_count": 11,
   "metadata": {},
   "outputs": [],
   "source": [
    "# 6、转四维数据（CNN预测需要）\n",
    "image = gray_inv.reshape((1,28,28,1))"
   ]
  },
  {
   "cell_type": "markdown",
   "metadata": {},
   "source": [
    "### 7、预测"
   ]
  },
  {
   "cell_type": "code",
   "execution_count": 12,
   "metadata": {},
   "outputs": [
    {
     "name": "stdout",
     "output_type": "stream",
     "text": [
      "预测结果： [8]\n"
     ]
    }
   ],
   "source": [
    "# 7、预测\n",
    "prediction = model.predict(image)           # 预测\n",
    "prediction = np.argmax(prediction,axis=1)   # 找出最大值\n",
    "print('预测结果：', prediction)"
   ]
  },
  {
   "cell_type": "markdown",
   "metadata": {},
   "source": [
    "### 8、显示图像"
   ]
  },
  {
   "cell_type": "code",
   "execution_count": 14,
   "metadata": {},
   "outputs": [
    {
     "data": {
      "image/png": "[encoded data removed]",
      "text/plain": [
       "<Figure size 700x700 with 9 Axes>"
      ]
     },
     "metadata": {},
     "output_type": "display_data"
    }
   ],
   "source": [
    "# 8、显示\n",
    "# 设置plt图表\n",
    "f, ax = plt.subplots(3, 3, figsize=(7, 7))\n",
    "# 显示数据集图像\n",
    "ax[0][0].set_title('train_model')\n",
    "ax[0][0].axis('off')\n",
    "ax[0][0].imshow(x_train[18], 'gray')\n",
    "# 显示原图\n",
    "ax[0][1].set_title('img')\n",
    "ax[0][1].axis('off')\n",
    "ax[0][1].imshow(img, 'gray')\n",
    "# 显示灰度图（白底黑字）\n",
    "ax[0][2].set_title('gray')\n",
    "ax[0][2].axis('off')\n",
    "ax[0][2].imshow(gray, 'gray')\n",
    "# 显示灰度图（黑底白字）\n",
    "ax[1][0].set_title('gray')\n",
    "ax[1][0].axis('off')\n",
    "ax[1][0].imshow(gray_inv, 'gray')\n",
    "\n",
    "plt.show()"
   ]
  }
 ],
 "metadata": {
  "kernelspec": {
   "display_name": "Python 3.8.1 ('tf230')",
   "language": "python",
   "name": "python3"
  },
  "language_info": {
   "codemirror_mode": {
    "name": "ipython",
    "version": 3
   },
   "file_extension": ".py",
   "mimetype": "text/x-python",
   "name": "python",
   "nbconvert_exporter": "python",
   "pygments_lexer": "ipython3",
   "version": "3.8.1"
  },
  "orig_nbformat": 4,
  "vscode": {
   "interpreter": {
    "hash": "d3d3aeda281fb764b1955f341ab0590804ec09a11ca05d6f2c3677feeecb13d2"
   }
  }
 },
 "nbformat": 4,
 "nbformat_minor": 2
}
